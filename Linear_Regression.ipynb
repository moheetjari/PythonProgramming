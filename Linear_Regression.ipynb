{
  "nbformat": 4,
  "nbformat_minor": 0,
  "metadata": {
    "colab": {
      "name": "Linear_Regression.ipynb",
      "provenance": [],
      "collapsed_sections": [],
      "authorship_tag": "ABX9TyMNEgbzgQ3m1m8HK3MXeiaO",
      "include_colab_link": true
    },
    "kernelspec": {
      "name": "python3",
      "display_name": "Python 3"
    }
  },
  "cells": [
    {
      "cell_type": "markdown",
      "metadata": {
        "id": "view-in-github",
        "colab_type": "text"
      },
      "source": [
        "<a href=\"https://colab.research.google.com/github/moheetjari/PythonProgramming/blob/main/Linear_Regression.ipynb\" target=\"_parent\"><img src=\"https://colab.research.google.com/assets/colab-badge.svg\" alt=\"Open In Colab\"/></a>"
      ]
    },
    {
      "cell_type": "code",
      "metadata": {
        "id": "GGAiiLLvQ9gg"
      },
      "source": [
        "import pandas as pd\r\n",
        "import numpy as np\r\n",
        "import matplotlib.pyplot as plt\r\n",
        "from sklearn import linear_model\r\n",
        "from sklearn.model_selection import train_test_split "
      ],
      "execution_count": 14,
      "outputs": []
    },
    {
      "cell_type": "code",
      "metadata": {
        "id": "DuKNaGe4RRMF"
      },
      "source": [
        "data = pd.read_csv('/content/Mall_Customers.csv')\r\n",
        "X=data.iloc[:,3:4].values\r\n",
        "y=data.iloc[:,4].values"
      ],
      "execution_count": 35,
      "outputs": []
    },
    {
      "cell_type": "code",
      "metadata": {
        "colab": {
          "base_uri": "https://localhost:8080/",
          "height": 295
        },
        "id": "9bjJFko_VEV0",
        "outputId": "d0ed2827-8a5c-4628-cad0-7187f79a9cbd"
      },
      "source": [
        "from sklearn.linear_model import  LinearRegression\r\n",
        "lin_reg=LinearRegression()\r\n",
        "lin_reg.fit(X,y)\r\n",
        "plt.xlabel('Annual Income')\r\n",
        "plt.ylabel('Spending Score')\r\n",
        "plt.scatter(X,y)\r\n",
        "plt.plot(X, lin_reg.predict(X), color='black')\r\n",
        "plt.title('Linear Regression line')\r\n",
        "plt.show()"
      ],
      "execution_count": 36,
      "outputs": [
        {
          "output_type": "display_data",
          "data": {
            "image/png": "[encoded data removed]",
            "text/plain": [
              "<Figure size 432x288 with 1 Axes>"
            ]
          },
          "metadata": {
            "tags": [],
            "needs_background": "light"
          }
        }
      ]
    },
    {
      "cell_type": "code",
      "metadata": {
        "id": "W3UcmAscXnie"
      },
      "source": [
        "#Co-efficient\r\n",
        "m = lin_reg.coef_"
      ],
      "execution_count": 39,
      "outputs": []
    },
    {
      "cell_type": "code",
      "metadata": {
        "id": "meIQ48x3Xxk0"
      },
      "source": [
        "#intercept\r\n",
        "c = lin_reg.intercept_"
      ],
      "execution_count": 40,
      "outputs": []
    },
    {
      "cell_type": "code",
      "metadata": {
        "colab": {
          "base_uri": "https://localhost:8080/"
        },
        "id": "3KJ0aTRlcBNY",
        "outputId": "b56c3451-6a6f-4254-8cec-15cdf0b6a75f"
      },
      "source": [
        "y= m*X + c\r\n",
        "y"
      ],
      "execution_count": 41,
      "outputs": [
        {
          "output_type": "execute_result",
          "data": {
            "text/plain": [
              "array([[49.75640514],\n",
              "       [49.75640514],\n",
              "       [49.76614164],\n",
              "       [49.76614164],\n",
              "       [49.77587814],\n",
              "       [49.77587814],\n",
              "       [49.78561463],\n",
              "       [49.78561463],\n",
              "       [49.79535113],\n",
              "       [49.79535113],\n",
              "       [49.79535113],\n",
              "       [49.79535113],\n",
              "       [49.80508763],\n",
              "       [49.80508763],\n",
              "       [49.80508763],\n",
              "       [49.80508763],\n",
              "       [49.81482413],\n",
              "       [49.81482413],\n",
              "       [49.83429712],\n",
              "       [49.83429712],\n",
              "       [49.84403362],\n",
              "       [49.84403362],\n",
              "       [49.85377012],\n",
              "       [49.85377012],\n",
              "       [49.88297962],\n",
              "       [49.88297962],\n",
              "       [49.88297962],\n",
              "       [49.88297962],\n",
              "       [49.89271611],\n",
              "       [49.89271611],\n",
              "       [49.90245261],\n",
              "       [49.90245261],\n",
              "       [49.93166211],\n",
              "       [49.93166211],\n",
              "       [49.93166211],\n",
              "       [49.93166211],\n",
              "       [49.94139861],\n",
              "       [49.94139861],\n",
              "       [49.9706081 ],\n",
              "       [49.9706081 ],\n",
              "       [49.9803446 ],\n",
              "       [49.9803446 ],\n",
              "       [49.9900811 ],\n",
              "       [49.9900811 ],\n",
              "       [49.9900811 ],\n",
              "       [49.9900811 ],\n",
              "       [49.9998176 ],\n",
              "       [49.9998176 ],\n",
              "       [49.9998176 ],\n",
              "       [49.9998176 ],\n",
              "       [50.01929059],\n",
              "       [50.01929059],\n",
              "       [50.02902709],\n",
              "       [50.02902709],\n",
              "       [50.02902709],\n",
              "       [50.02902709],\n",
              "       [50.03876359],\n",
              "       [50.03876359],\n",
              "       [50.05823659],\n",
              "       [50.05823659],\n",
              "       [50.05823659],\n",
              "       [50.05823659],\n",
              "       [50.06797308],\n",
              "       [50.06797308],\n",
              "       [50.07770958],\n",
              "       [50.07770958],\n",
              "       [50.07770958],\n",
              "       [50.07770958],\n",
              "       [50.07770958],\n",
              "       [50.07770958],\n",
              "       [50.08744608],\n",
              "       [50.08744608],\n",
              "       [50.09718258],\n",
              "       [50.09718258],\n",
              "       [50.13612857],\n",
              "       [50.13612857],\n",
              "       [50.13612857],\n",
              "       [50.13612857],\n",
              "       [50.13612857],\n",
              "       [50.13612857],\n",
              "       [50.13612857],\n",
              "       [50.13612857],\n",
              "       [50.13612857],\n",
              "       [50.13612857],\n",
              "       [50.13612857],\n",
              "       [50.13612857],\n",
              "       [50.16533807],\n",
              "       [50.16533807],\n",
              "       [50.17507456],\n",
              "       [50.17507456],\n",
              "       [50.18481106],\n",
              "       [50.18481106],\n",
              "       [50.19454756],\n",
              "       [50.19454756],\n",
              "       [50.19454756],\n",
              "       [50.19454756],\n",
              "       [50.19454756],\n",
              "       [50.19454756],\n",
              "       [50.20428406],\n",
              "       [50.20428406],\n",
              "       [50.21402056],\n",
              "       [50.21402056],\n",
              "       [50.21402056],\n",
              "       [50.21402056],\n",
              "       [50.21402056],\n",
              "       [50.21402056],\n",
              "       [50.22375706],\n",
              "       [50.22375706],\n",
              "       [50.22375706],\n",
              "       [50.22375706],\n",
              "       [50.22375706],\n",
              "       [50.22375706],\n",
              "       [50.23349355],\n",
              "       [50.23349355],\n",
              "       [50.24323005],\n",
              "       [50.24323005],\n",
              "       [50.24323005],\n",
              "       [50.24323005],\n",
              "       [50.26270305],\n",
              "       [50.26270305],\n",
              "       [50.26270305],\n",
              "       [50.26270305],\n",
              "       [50.28217605],\n",
              "       [50.28217605],\n",
              "       [50.29191254],\n",
              "       [50.29191254],\n",
              "       [50.30164904],\n",
              "       [50.30164904],\n",
              "       [50.30164904],\n",
              "       [50.30164904],\n",
              "       [50.30164904],\n",
              "       [50.30164904],\n",
              "       [50.31138554],\n",
              "       [50.31138554],\n",
              "       [50.32112204],\n",
              "       [50.32112204],\n",
              "       [50.32112204],\n",
              "       [50.32112204],\n",
              "       [50.33085854],\n",
              "       [50.33085854],\n",
              "       [50.34059504],\n",
              "       [50.34059504],\n",
              "       [50.35033153],\n",
              "       [50.35033153],\n",
              "       [50.36006803],\n",
              "       [50.36006803],\n",
              "       [50.36006803],\n",
              "       [50.36006803],\n",
              "       [50.36980453],\n",
              "       [50.36980453],\n",
              "       [50.36980453],\n",
              "       [50.36980453],\n",
              "       [50.36980453],\n",
              "       [50.36980453],\n",
              "       [50.36980453],\n",
              "       [50.36980453],\n",
              "       [50.36980453],\n",
              "       [50.36980453],\n",
              "       [50.36980453],\n",
              "       [50.36980453],\n",
              "       [50.37954103],\n",
              "       [50.37954103],\n",
              "       [50.39901402],\n",
              "       [50.39901402],\n",
              "       [50.43796002],\n",
              "       [50.43796002],\n",
              "       [50.44769652],\n",
              "       [50.44769652],\n",
              "       [50.45743301],\n",
              "       [50.45743301],\n",
              "       [50.45743301],\n",
              "       [50.45743301],\n",
              "       [50.45743301],\n",
              "       [50.45743301],\n",
              "       [50.46716951],\n",
              "       [50.46716951],\n",
              "       [50.46716951],\n",
              "       [50.46716951],\n",
              "       [50.515852  ],\n",
              "       [50.515852  ],\n",
              "       [50.554798  ],\n",
              "       [50.554798  ],\n",
              "       [50.5645345 ],\n",
              "       [50.5645345 ],\n",
              "       [50.57427099],\n",
              "       [50.57427099],\n",
              "       [50.59374399],\n",
              "       [50.59374399],\n",
              "       [50.61321699],\n",
              "       [50.61321699],\n",
              "       [50.61321699],\n",
              "       [50.61321699],\n",
              "       [50.71058197],\n",
              "       [50.71058197],\n",
              "       [50.77873746],\n",
              "       [50.77873746],\n",
              "       [50.83715645],\n",
              "       [50.83715645],\n",
              "       [50.94425793],\n",
              "       [50.94425793]])"
            ]
          },
          "metadata": {
            "tags": []
          },
          "execution_count": 41
        }
      ]
    }
  ]
}