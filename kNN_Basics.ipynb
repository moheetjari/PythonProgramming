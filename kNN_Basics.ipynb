{
  "nbformat": 4,
  "nbformat_minor": 0,
  "metadata": {
    "colab": {
      "name": "kNN_Basics",
      "provenance": [],
      "collapsed_sections": [],
      "authorship_tag": "ABX9TyN46ybtkWsRcDDKaPU6cnq/",
      "include_colab_link": true
    },
    "kernelspec": {
      "name": "python3",
      "display_name": "Python 3"
    }
  },
  "cells": [
    {
      "cell_type": "markdown",
      "metadata": {
        "id": "view-in-github",
        "colab_type": "text"
      },
      "source": [
        "<a href=\"https://colab.research.google.com/github/moheetjari/PythonProgramming/blob/main/kNN_Basics.ipynb\" target=\"_parent\"><img src=\"https://colab.research.google.com/assets/colab-badge.svg\" alt=\"Open In Colab\"/></a>"
      ]
    },
    {
      "cell_type": "code",
      "metadata": {
        "id": "fT19C5ysG3FE",
        "outputId": "4e468e96-9c22-451e-ab7a-e9a48c89040a",
        "colab": {
          "base_uri": "https://localhost:8080/",
          "height": 51
        }
      },
      "source": [
        "#Loading required modules\n",
        "from sklearn import datasets\n",
        "from sklearn.neighbors import KNeighborsClassifier\n",
        "\n",
        "#Loading Dataset\n",
        "iris = datasets.load_iris()\n",
        "\n",
        "#Printing description and features\n",
        "features = iris.data\n",
        "labels = iris.target\n",
        "print(features[0],labels[0])\n",
        "\n",
        "#Training the classifier\n",
        "clf = KNeighborsClassifier()\n",
        "clf.fit(features,labels)\n",
        "\n",
        "preds = clf.predict([[31,12,1,1]])\n",
        "print(preds)"
      ],
      "execution_count": 7,
      "outputs": [
        {
          "output_type": "stream",
          "text": [
            "[5.1 3.5 1.4 0.2] 0\n",
            "[2]\n"
          ],
          "name": "stdout"
        }
      ]
    }
  ]
}