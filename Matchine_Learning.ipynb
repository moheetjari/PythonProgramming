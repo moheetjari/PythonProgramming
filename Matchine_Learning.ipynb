{
  "nbformat": 4,
  "nbformat_minor": 0,
  "metadata": {
    "colab": {
      "name": "Matchine_Learning.ipynb",
      "provenance": [],
      "collapsed_sections": [],
      "authorship_tag": "ABX9TyO846B1UD34l0G0etIAUHbl",
      "include_colab_link": true
    },
    "kernelspec": {
      "name": "python3",
      "display_name": "Python 3"
    }
  },
  "cells": [
    {
      "cell_type": "markdown",
      "metadata": {
        "id": "view-in-github",
        "colab_type": "text"
      },
      "source": [
        "<a href=\"https://colab.research.google.com/github/moheetjari/PythonProgramming/blob/main/Matchine_Learning.ipynb\" target=\"_parent\"><img src=\"https://colab.research.google.com/assets/colab-badge.svg\" alt=\"Open In Colab\"/></a>"
      ]
    },
    {
      "cell_type": "code",
      "metadata": {
        "id": "ZOmiY3KQhIB9"
      },
      "source": [
        "#Dictionary\n",
        "\n",
        "#Create Dictionary\n",
        "thisdict = {\n",
        "  \"brand\": \"Ford\",\n",
        "  \"model\": \"Mustang\",\n",
        "  \"year\": 1964\n",
        "}\n",
        "thisdict['brand']\n",
        "\n",
        "#for loop on dictionary\n",
        "for x in thisdict:\n",
        "  print(x)\n",
        "\n",
        "for x in thisdict.values():\n",
        "  print(x)\n",
        "\n",
        "for x,y in thisdict.items():\n",
        "  print(x,y)\n",
        "\n",
        "#lenght of dictionary\n",
        "len(thisdict)  \n",
        "\n",
        "#add element\n",
        "thisdict[\"color\"] = \"red\"\n",
        "\n",
        "#The pop() method removes the item with the specified key name\n",
        "thisdict.pop(\"color\")\n",
        "\n",
        "#The popitem() method removes the last inserted item \n",
        "thisdict.popitem()\n",
        "\n",
        "#The del keyword removes the item with the specified key name\n",
        "del thisdict[\"brand\"]\n",
        "\n",
        "#The del keyword can also delete the dictionary completely\n",
        "del thisdict\n",
        "\n",
        "#The clear() method empties the dictionary\n",
        "thisdict.clear()\n",
        "\n",
        "#Make a copy of a dictionary with the copy() method\n",
        "mydict = thisdict.copy()\n",
        "\n",
        "#Make a copy of a dictionary with the dict() function\n",
        "mydict = dict(thisdict)\n",
        "\n",
        "#check wheater element in dictionary\n",
        "if \"color\" in thisdict:\n",
        "  print(\"Yes\")\n",
        "else:\n",
        "  print(\"No\")\n",
        "\n",
        "#Update values from dictionary\n",
        "thisdict[\"brand\"] = \"BMW\"  "
      ],
      "execution_count": null,
      "outputs": []
    },
    {
      "cell_type": "code",
      "metadata": {
        "id": "nNGr3TaGlKHU"
      },
      "source": [
        "#slicing\n",
        "import numpy as np\n",
        "\n",
        "arr = np.array([1, 2, 3, 4, 5, 6, 7])\n",
        "\n",
        "print(arr[1:5])\n",
        "print(arr[4:])\n",
        "print(arr[:4])\n",
        "print(arr[1:5:2])\n",
        "print(arr[::2])"
      ],
      "execution_count": null,
      "outputs": []
    }
  ]
}