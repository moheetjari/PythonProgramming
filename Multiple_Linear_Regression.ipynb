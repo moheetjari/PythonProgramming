{
  "nbformat": 4,
  "nbformat_minor": 0,
  "metadata": {
    "colab": {
      "name": "Multiple_Linear_Regression.ipynb",
      "provenance": [],
      "collapsed_sections": [],
      "authorship_tag": "ABX9TyPYSjU5jMflhGQ2XzzVARhw",
      "include_colab_link": true
    },
    "kernelspec": {
      "name": "python3",
      "display_name": "Python 3"
    }
  },
  "cells": [
    {
      "cell_type": "markdown",
      "metadata": {
        "id": "view-in-github",
        "colab_type": "text"
      },
      "source": [
        "<a href=\"https://colab.research.google.com/github/moheetjari/PythonProgramming/blob/main/Multiple_Linear_Regression.ipynb\" target=\"_parent\"><img src=\"https://colab.research.google.com/assets/colab-badge.svg\" alt=\"Open In Colab\"/></a>"
      ]
    },
    {
      "cell_type": "code",
      "metadata": {
        "id": "r8zgZOH7IF-O"
      },
      "source": [
        "import pandas as pd\r\n",
        "import numpy as np\r\n",
        "import matplotlib.pyplot as plt\r\n",
        "from sklearn import linear_model\r\n",
        "from sklearn.model_selection import train_test_split \r\n",
        "import math"
      ],
      "execution_count": 34,
      "outputs": []
    },
    {
      "cell_type": "code",
      "metadata": {
        "colab": {
          "base_uri": "https://localhost:8080/",
          "height": 402
        },
        "id": "-tCt4mU9LOW0",
        "outputId": "bb03da76-e387-446b-c782-e297866108e6"
      },
      "source": [
        "data = pd.read_csv('/content/Heart.csv')\r\n",
        "median_Ca = math.floor(data.Ca.median())\r\n",
        "data.Ca = data.Ca.fillna(median_Ca)\r\n",
        "X = data[['RestBP','Chol','Age','Sex','Fbs','MaxHR','ExAng','Oldpeak','Slope','Ca']]\r\n",
        "y = data.AHD.eq('Yes').mul(1)\r\n",
        "data"
      ],
      "execution_count": 36,
      "outputs": [
        {
          "output_type": "execute_result",
          "data": {
            "text/html": [
              "<div>\n",
              "<style scoped>\n",
              "    .dataframe tbody tr th:only-of-type {\n",
              "        vertical-align: middle;\n",
              "    }\n",
              "\n",
              "    .dataframe tbody tr th {\n",
              "        vertical-align: top;\n",
              "    }\n",
              "\n",
              "    .dataframe thead th {\n",
              "        text-align: right;\n",
              "    }\n",
              "</style>\n",
              "<table border=\"1\" class=\"dataframe\">\n",
              "  <thead>\n",
              "    <tr style=\"text-align: right;\">\n",
              "      <th></th>\n",
              "      <th>Unnamed: 0</th>\n",
              "      <th>Age</th>\n",
              "      <th>Sex</th>\n",
              "      <th>ChestPain</th>\n",
              "      <th>RestBP</th>\n",
              "      <th>Chol</th>\n",
              "      <th>Fbs</th>\n",
              "      <th>RestECG</th>\n",
              "      <th>MaxHR</th>\n",
              "      <th>ExAng</th>\n",
              "      <th>Oldpeak</th>\n",
              "      <th>Slope</th>\n",
              "      <th>Ca</th>\n",
              "      <th>Thal</th>\n",
              "      <th>AHD</th>\n",
              "    </tr>\n",
              "  </thead>\n",
              "  <tbody>\n",
              "    <tr>\n",
              "      <th>0</th>\n",
              "      <td>1</td>\n",
              "      <td>63</td>\n",
              "      <td>1</td>\n",
              "      <td>typical</td>\n",
              "      <td>145</td>\n",
              "      <td>233</td>\n",
              "      <td>1</td>\n",
              "      <td>2</td>\n",
              "      <td>150</td>\n",
              "      <td>0</td>\n",
              "      <td>2.3</td>\n",
              "      <td>3</td>\n",
              "      <td>0.0</td>\n",
              "      <td>fixed</td>\n",
              "      <td>No</td>\n",
              "    </tr>\n",
              "    <tr>\n",
              "      <th>1</th>\n",
              "      <td>2</td>\n",
              "      <td>67</td>\n",
              "      <td>1</td>\n",
              "      <td>asymptomatic</td>\n",
              "      <td>160</td>\n",
              "      <td>286</td>\n",
              "      <td>0</td>\n",
              "      <td>2</td>\n",
              "      <td>108</td>\n",
              "      <td>1</td>\n",
              "      <td>1.5</td>\n",
              "      <td>2</td>\n",
              "      <td>3.0</td>\n",
              "      <td>normal</td>\n",
              "      <td>Yes</td>\n",
              "    </tr>\n",
              "    <tr>\n",
              "      <th>2</th>\n",
              "      <td>3</td>\n",
              "      <td>67</td>\n",
              "      <td>1</td>\n",
              "      <td>asymptomatic</td>\n",
              "      <td>120</td>\n",
              "      <td>229</td>\n",
              "      <td>0</td>\n",
              "      <td>2</td>\n",
              "      <td>129</td>\n",
              "      <td>1</td>\n",
              "      <td>2.6</td>\n",
              "      <td>2</td>\n",
              "      <td>2.0</td>\n",
              "      <td>reversable</td>\n",
              "      <td>Yes</td>\n",
              "    </tr>\n",
              "    <tr>\n",
              "      <th>3</th>\n",
              "      <td>4</td>\n",
              "      <td>37</td>\n",
              "      <td>1</td>\n",
              "      <td>nonanginal</td>\n",
              "      <td>130</td>\n",
              "      <td>250</td>\n",
              "      <td>0</td>\n",
              "      <td>0</td>\n",
              "      <td>187</td>\n",
              "      <td>0</td>\n",
              "      <td>3.5</td>\n",
              "      <td>3</td>\n",
              "      <td>0.0</td>\n",
              "      <td>normal</td>\n",
              "      <td>No</td>\n",
              "    </tr>\n",
              "    <tr>\n",
              "      <th>4</th>\n",
              "      <td>5</td>\n",
              "      <td>41</td>\n",
              "      <td>0</td>\n",
              "      <td>nontypical</td>\n",
              "      <td>130</td>\n",
              "      <td>204</td>\n",
              "      <td>0</td>\n",
              "      <td>2</td>\n",
              "      <td>172</td>\n",
              "      <td>0</td>\n",
              "      <td>1.4</td>\n",
              "      <td>1</td>\n",
              "      <td>0.0</td>\n",
              "      <td>normal</td>\n",
              "      <td>No</td>\n",
              "    </tr>\n",
              "    <tr>\n",
              "      <th>...</th>\n",
              "      <td>...</td>\n",
              "      <td>...</td>\n",
              "      <td>...</td>\n",
              "      <td>...</td>\n",
              "      <td>...</td>\n",
              "      <td>...</td>\n",
              "      <td>...</td>\n",
              "      <td>...</td>\n",
              "      <td>...</td>\n",
              "      <td>...</td>\n",
              "      <td>...</td>\n",
              "      <td>...</td>\n",
              "      <td>...</td>\n",
              "      <td>...</td>\n",
              "      <td>...</td>\n",
              "    </tr>\n",
              "    <tr>\n",
              "      <th>298</th>\n",
              "      <td>299</td>\n",
              "      <td>45</td>\n",
              "      <td>1</td>\n",
              "      <td>typical</td>\n",
              "      <td>110</td>\n",
              "      <td>264</td>\n",
              "      <td>0</td>\n",
              "      <td>0</td>\n",
              "      <td>132</td>\n",
              "      <td>0</td>\n",
              "      <td>1.2</td>\n",
              "      <td>2</td>\n",
              "      <td>0.0</td>\n",
              "      <td>reversable</td>\n",
              "      <td>Yes</td>\n",
              "    </tr>\n",
              "    <tr>\n",
              "      <th>299</th>\n",
              "      <td>300</td>\n",
              "      <td>68</td>\n",
              "      <td>1</td>\n",
              "      <td>asymptomatic</td>\n",
              "      <td>144</td>\n",
              "      <td>193</td>\n",
              "      <td>1</td>\n",
              "      <td>0</td>\n",
              "      <td>141</td>\n",
              "      <td>0</td>\n",
              "      <td>3.4</td>\n",
              "      <td>2</td>\n",
              "      <td>2.0</td>\n",
              "      <td>reversable</td>\n",
              "      <td>Yes</td>\n",
              "    </tr>\n",
              "    <tr>\n",
              "      <th>300</th>\n",
              "      <td>301</td>\n",
              "      <td>57</td>\n",
              "      <td>1</td>\n",
              "      <td>asymptomatic</td>\n",
              "      <td>130</td>\n",
              "      <td>131</td>\n",
              "      <td>0</td>\n",
              "      <td>0</td>\n",
              "      <td>115</td>\n",
              "      <td>1</td>\n",
              "      <td>1.2</td>\n",
              "      <td>2</td>\n",
              "      <td>1.0</td>\n",
              "      <td>reversable</td>\n",
              "      <td>Yes</td>\n",
              "    </tr>\n",
              "    <tr>\n",
              "      <th>301</th>\n",
              "      <td>302</td>\n",
              "      <td>57</td>\n",
              "      <td>0</td>\n",
              "      <td>nontypical</td>\n",
              "      <td>130</td>\n",
              "      <td>236</td>\n",
              "      <td>0</td>\n",
              "      <td>2</td>\n",
              "      <td>174</td>\n",
              "      <td>0</td>\n",
              "      <td>0.0</td>\n",
              "      <td>2</td>\n",
              "      <td>1.0</td>\n",
              "      <td>normal</td>\n",
              "      <td>Yes</td>\n",
              "    </tr>\n",
              "    <tr>\n",
              "      <th>302</th>\n",
              "      <td>303</td>\n",
              "      <td>38</td>\n",
              "      <td>1</td>\n",
              "      <td>nonanginal</td>\n",
              "      <td>138</td>\n",
              "      <td>175</td>\n",
              "      <td>0</td>\n",
              "      <td>0</td>\n",
              "      <td>173</td>\n",
              "      <td>0</td>\n",
              "      <td>0.0</td>\n",
              "      <td>1</td>\n",
              "      <td>0.0</td>\n",
              "      <td>normal</td>\n",
              "      <td>No</td>\n",
              "    </tr>\n",
              "  </tbody>\n",
              "</table>\n",
              "<p>303 rows × 15 columns</p>\n",
              "</div>"
            ],
            "text/plain": [
              "     Unnamed: 0  Age  Sex     ChestPain  ...  Slope   Ca        Thal  AHD\n",
              "0             1   63    1       typical  ...      3  0.0       fixed   No\n",
              "1             2   67    1  asymptomatic  ...      2  3.0      normal  Yes\n",
              "2             3   67    1  asymptomatic  ...      2  2.0  reversable  Yes\n",
              "3             4   37    1    nonanginal  ...      3  0.0      normal   No\n",
              "4             5   41    0    nontypical  ...      1  0.0      normal   No\n",
              "..          ...  ...  ...           ...  ...    ...  ...         ...  ...\n",
              "298         299   45    1       typical  ...      2  0.0  reversable  Yes\n",
              "299         300   68    1  asymptomatic  ...      2  2.0  reversable  Yes\n",
              "300         301   57    1  asymptomatic  ...      2  1.0  reversable  Yes\n",
              "301         302   57    0    nontypical  ...      2  1.0      normal  Yes\n",
              "302         303   38    1    nonanginal  ...      1  0.0      normal   No\n",
              "\n",
              "[303 rows x 15 columns]"
            ]
          },
          "metadata": {
            "tags": []
          },
          "execution_count": 36
        }
      ]
    },
    {
      "cell_type": "code",
      "metadata": {
        "colab": {
          "base_uri": "https://localhost:8080/"
        },
        "id": "-zBy1JwXQcxg",
        "outputId": "ba893c15-7c8e-46f6-a0bf-5d18cd2956da"
      },
      "source": [
        "from sklearn import linear_model\r\n",
        "regr = linear_model.LinearRegression()\r\n",
        "regr.fit(X, y)"
      ],
      "execution_count": 39,
      "outputs": [
        {
          "output_type": "execute_result",
          "data": {
            "text/plain": [
              "LinearRegression(copy_X=True, fit_intercept=True, n_jobs=None, normalize=False)"
            ]
          },
          "metadata": {
            "tags": []
          },
          "execution_count": 39
        }
      ]
    },
    {
      "cell_type": "code",
      "metadata": {
        "colab": {
          "base_uri": "https://localhost:8080/"
        },
        "id": "o1ob8yJ8Tslt",
        "outputId": "7817b315-e4f4-4841-b8a8-cb4392fd4c34"
      },
      "source": [
        "#Co-efficient\r\n",
        "m = regr.coef_\r\n",
        "m"
      ],
      "execution_count": 42,
      "outputs": [
        {
          "output_type": "execute_result",
          "data": {
            "text/plain": [
              "array([ 0.00249987,  0.00061589, -0.00173892,  0.22513361, -0.07995559,\n",
              "       -0.00358841,  0.24137102,  0.04608796,  0.08907347,  0.17288482])"
            ]
          },
          "metadata": {
            "tags": []
          },
          "execution_count": 42
        }
      ]
    },
    {
      "cell_type": "code",
      "metadata": {
        "colab": {
          "base_uri": "https://localhost:8080/"
        },
        "id": "ae-fmca5Txlc",
        "outputId": "bd21910e-e31f-4a46-815f-875fc10046be"
      },
      "source": [
        "#intercept\r\n",
        "c = regr.intercept_\r\n",
        "c"
      ],
      "execution_count": 43,
      "outputs": [
        {
          "output_type": "execute_result",
          "data": {
            "text/plain": [
              "0.08389320757088281"
            ]
          },
          "metadata": {
            "tags": []
          },
          "execution_count": 43
        }
      ]
    },
    {
      "cell_type": "code",
      "metadata": {
        "colab": {
          "base_uri": "https://localhost:8080/"
        },
        "id": "aK2PWI05nJzt",
        "outputId": "4f2be228-1e91-458c-eaf3-2ed77d260ce2"
      },
      "source": [
        "regr.predict(X)"
      ],
      "execution_count": 44,
      "outputs": [
        {
          "output_type": "execute_result",
          "data": {
            "text/plain": [
              "array([ 4.60464850e-01,  1.38839994e+00,  1.05575463e+00,  4.81138763e-01,\n",
              "       -3.87046076e-04,  1.44189452e-01,  6.95882513e-01,  2.75971775e-01,\n",
              "        5.68953549e-01,  7.07177222e-01,  3.43639237e-01,  2.06602666e-01,\n",
              "        7.24844850e-01,  1.62757209e-01,  2.21982903e-01,  2.26789961e-01,\n",
              "        3.52039449e-01,  2.82538904e-01,  9.42808528e-02,  2.15738598e-01,\n",
              "        5.88420480e-01,  6.19759401e-03,  3.70027237e-01,  6.37642130e-01,\n",
              "        1.05877740e+00,  1.16731188e-01, -3.57091034e-02,  4.61267310e-01,\n",
              "        3.05946693e-01,  7.19925063e-01,  4.37039662e-01,  7.25468035e-01,\n",
              "        2.76146674e-01,  3.11489005e-01,  4.07554882e-01,  1.75502376e-01,\n",
              "        7.47379458e-01,  9.73029040e-01,  9.34817503e-01,  6.21633479e-01,\n",
              "        8.18230595e-01,  4.68245271e-01,  4.18364795e-01,  2.31458758e-01,\n",
              "       -1.13208466e-02,  5.03974441e-01,  2.78460828e-01,  5.85382534e-01,\n",
              "        2.33165319e-01,  3.60310269e-01,  5.61361756e-02,  2.10125945e-01,\n",
              "        4.04040346e-01,  1.06830510e-01,  7.36617180e-01,  9.91596209e-01,\n",
              "        5.09339496e-01,  1.40755207e-01,  6.13458650e-01,  7.83312158e-01,\n",
              "        4.73308082e-01,  4.66866583e-01,  1.23067005e+00, -8.62062841e-02,\n",
              "        6.40962121e-01,  1.12563434e+00,  4.28821065e-01,  3.03719492e-01,\n",
              "        9.95102677e-01,  5.62855668e-01,  1.18877770e-01,  5.29707674e-01,\n",
              "        1.15863503e+00,  5.19251456e-01,  2.55640808e-01,  1.76658082e-01,\n",
              "        8.91559124e-01,  3.56421180e-01,  2.42886377e-01,  7.18442487e-01,\n",
              "        6.45564888e-01,  1.62748881e-01,  2.24875245e-01,  6.84553274e-01,\n",
              "        1.99837203e-01,  1.70390757e-01,  2.59845723e-01,  1.21153128e-01,\n",
              "       -4.24053359e-03,  5.53044483e-02,  3.34974519e-01,  1.02836676e+00,\n",
              "        9.24320173e-01, -5.79642621e-02, -6.11041490e-02,  6.21234452e-01,\n",
              "        7.66768903e-01,  5.93803925e-01,  4.09240068e-01,  8.89003853e-02,\n",
              "        1.03610357e-01,  1.21670946e-01,  1.82774898e-01,  1.14136806e-01,\n",
              "        9.29780468e-01,  2.04703618e-01,  5.87432479e-01,  5.02136813e-01,\n",
              "        9.19011418e-01,  4.02149310e-01,  4.71077529e-01,  7.28510211e-01,\n",
              "        1.24492954e-01,  5.38924453e-01,  5.21304762e-01,  4.04716716e-01,\n",
              "        1.05135080e-01, -1.87724251e-02,  1.10613428e+00,  7.14266391e-01,\n",
              "        7.66207479e-01,  9.28528303e-01,  5.68738133e-01,  1.06538737e+00,\n",
              "        4.25877019e-01,  5.25719319e-02,  1.14536369e+00,  9.06618758e-01,\n",
              "        1.47039072e-01, -8.10514818e-02,  3.43095884e-01,  5.45851680e-01,\n",
              "        7.34381277e-02,  3.94072105e-01,  4.05659793e-02,  1.44644496e-01,\n",
              "        8.36818023e-01,  7.20212866e-01,  6.96861265e-01,  2.96845928e-01,\n",
              "        4.34470098e-01,  4.25593057e-01,  1.36950057e-02,  7.32925283e-01,\n",
              "        5.13025858e-01,  1.90580777e-01,  1.01835099e+00,  1.18437943e-01,\n",
              "        2.19497629e-01,  1.18211513e-01,  2.96879323e-01,  1.97070677e-01,\n",
              "        2.79976271e-01,  9.00312251e-01,  1.08761252e+00,  1.12687896e+00,\n",
              "        5.37866060e-01,  5.26646210e-01,  7.04322602e-01,  4.22563770e-01,\n",
              "        5.21803384e-02,  9.42621904e-01,  8.16973683e-02,  1.72213306e-01,\n",
              "        4.19511121e-01,  3.94972843e-01,  1.83561490e-01,  3.50168168e-01,\n",
              "        5.07482592e-01,  6.71166241e-02,  1.07711289e+00,  6.43168485e-01,\n",
              "        4.76007106e-01,  2.38795961e-01,  8.33208938e-01,  1.09057159e+00,\n",
              "        6.36976990e-01,  9.67359016e-01,  5.21445654e-01,  6.00334370e-01,\n",
              "        3.09812150e-01,  8.87989706e-01,  5.89227397e-01,  7.58168974e-01,\n",
              "        7.37243905e-02,  2.36940117e-01,  2.11774633e-01,  1.25331032e+00,\n",
              "        4.31616334e-01,  9.60529574e-01,  1.69441859e-01,  1.44781565e+00,\n",
              "        5.47390254e-01,  8.26176314e-01,  2.30196377e-01,  9.84873805e-01,\n",
              "        5.38742923e-01,  3.79271921e-01,  5.65741242e-03,  4.15070836e-01,\n",
              "       -5.31138863e-02,  4.00573587e-01,  2.32916991e-01,  1.36391263e-01,\n",
              "        1.50531944e-01,  1.18674405e+00,  1.12472737e+00,  7.14098259e-01,\n",
              "        2.32603312e-01,  4.32764661e-01, -6.90015869e-02,  6.26765180e-01,\n",
              "        3.61985359e-01,  6.93857443e-01,  3.28056625e-01,  3.14890854e-01,\n",
              "       -1.36101505e-01,  3.72626660e-01,  6.62507571e-01,  1.54302587e-01,\n",
              "        1.70880277e-01, -8.57699632e-02, -1.79625990e-01,  1.21459449e+00,\n",
              "        6.51807203e-01, -1.18547477e-01,  2.13464939e-01,  1.62720099e-01,\n",
              "        8.21839407e-01,  6.39081020e-01,  3.04813163e-02,  7.95999270e-01,\n",
              "        8.03031240e-01,  4.99222203e-01,  1.90812833e-01,  1.19276822e+00,\n",
              "        8.43698506e-01,  2.91591122e-01,  9.74003083e-02,  2.25416093e-01,\n",
              "        1.97498462e-01,  2.02070259e-02, -6.49283033e-03,  8.05480199e-01,\n",
              "        5.38020477e-02,  6.07928128e-01,  3.09050697e-01,  8.86712240e-01,\n",
              "        5.39734372e-01,  1.56043537e-01,  6.45198946e-01,  7.73839886e-01,\n",
              "        9.04536582e-01,  3.02270682e-02,  2.92304203e-01, -3.08327919e-03,\n",
              "        3.08831397e-01,  2.35636366e-01,  3.04106938e-01,  2.77574488e-01,\n",
              "        2.81596623e-01,  3.28937313e-01,  1.92875063e-02,  1.54322835e-01,\n",
              "        9.59941345e-01,  8.23905799e-01,  4.90087011e-01,  5.47301710e-01,\n",
              "        1.96365739e-01,  2.22648098e-01,  7.76120354e-01,  4.34536256e-01,\n",
              "        1.18819773e+00,  1.35520059e-01,  5.57446519e-01,  4.12117874e-01,\n",
              "        3.10917340e-01,  1.29262532e-01,  4.11234724e-01,  1.65068029e-01,\n",
              "        9.08742297e-01,  1.54849782e-01,  6.52579555e-01,  1.36090431e-01,\n",
              "        3.82184197e-01,  1.17529315e+00,  8.37060229e-01,  3.36000895e-01,\n",
              "        1.76905542e-01,  3.20225272e-01,  3.79824728e-01,  7.75738668e-02,\n",
              "        7.57491435e-01,  1.00846375e+00,  3.37150429e-01,  7.03936976e-02,\n",
              "        8.91898569e-01,  4.70548006e-01,  4.28139283e-01,  7.64323322e-01,\n",
              "        8.50614821e-01,  1.81757186e-01,  1.63989842e-01])"
            ]
          },
          "metadata": {
            "tags": []
          },
          "execution_count": 44
        }
      ]
    }
  ]
}