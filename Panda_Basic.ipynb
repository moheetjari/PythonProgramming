{
  "nbformat": 4,
  "nbformat_minor": 0,
  "metadata": {
    "colab": {
      "name": "Panda_Basic.ipynb",
      "provenance": [],
      "collapsed_sections": [],
      "authorship_tag": "ABX9TyNqBttCjWEeTPUpDZ+xQYp+",
      "include_colab_link": true
    },
    "kernelspec": {
      "name": "python3",
      "display_name": "Python 3"
    }
  },
  "cells": [
    {
      "cell_type": "markdown",
      "metadata": {
        "id": "view-in-github",
        "colab_type": "text"
      },
      "source": [
        "<a href=\"https://colab.research.google.com/github/moheetjari/PythonProgramming-/blob/main/Panda_Basic.ipynb\" target=\"_parent\"><img src=\"https://colab.research.google.com/assets/colab-badge.svg\" alt=\"Open In Colab\"/></a>"
      ]
    },
    {
      "cell_type": "code",
      "metadata": {
        "id": "sMqfVZ9jrZCo"
      },
      "source": [
        "#import pandas library\n",
        "import pandas as pd\n",
        "\n",
        "#read csv file\n",
        "data = pd.read_csv('/content/sample.csv')\n",
        "data\n",
        "\n",
        "#display top 5 records\n",
        "data.head()\n",
        "\n",
        "#display top 2 records\n",
        "data.head(2)\n",
        "\n",
        "#display bottom 5 records\n",
        "data.tail()\n",
        "\n",
        "#display bottom 2 records\n",
        "data.tail(2)\n",
        "\n",
        "#display data types in csv files\n",
        "type(data)\n",
        "\n",
        "#info of data\n",
        "data.info()\n",
        "\n",
        "#display data by field name\n",
        "data['construction']\n",
        "\n",
        "#index\n",
        "data.index\n",
        "\n",
        "#column\n",
        "data.columns\n",
        "\n",
        "#size\n",
        "data.size\n",
        "\n",
        "#shape\n",
        "data.shape\n",
        "\n",
        "#ndim\n",
        "data.ndim\n",
        "\n",
        "#access 4th record from csv file\n",
        "data.at[4,'county']\n",
        "\n",
        "#if data is null then it return true otherwise false\n",
        "data.isnull().head()\n",
        "\n",
        "#count null values\n",
        "data.isnull().sum()\n",
        "\n",
        "#updating null values\n",
        "mean_id = data['policyID'].mean()\n",
        "mean_id = round(mean_id,2)\n",
        "data['policyID'] = data['policyID'].fillna(mean_id)\n",
        "\n",
        "#drop 1st number column\n",
        "data.drop([1],axis=0)\n",
        "\n",
        "#show value counts \n",
        "data['county'].value_counts()\n",
        "\n",
        "#get data in group of records or group by\n",
        "data.loc[:'county']\n",
        "\n",
        "#get data in group of records or group by\n",
        "data.loc[:'county']"
      ],
      "execution_count": null,
      "outputs": []
    }
  ]
}